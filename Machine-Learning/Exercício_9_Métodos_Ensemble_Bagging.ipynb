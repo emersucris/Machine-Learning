{
  "cells": [
    {
      "cell_type": "markdown",
      "metadata": {
        "colab_type": "text",
        "id": "view-in-github"
      },
      "source": [
        "<a href=\"https://colab.research.google.com/github/pedrohp09/Machine-Learning/blob/main/Exerc%C3%ADcio_9_M%C3%A9todos_Ensemble_Bagging.ipynb\" target=\"_parent\"><img src=\"https://colab.research.google.com/assets/colab-badge.svg\" alt=\"Open In Colab\"/></a>"
      ]
    },
    {
      "cell_type": "markdown",
      "metadata": {
        "id": "AgPPKEgrXLAX"
      },
      "source": [
        "Aluno: Emerson Cristhian de Melo Pereira Lista de Exercícios da disciplina de Machine Learning Exercício 9\n",
        "\n",
        "\n",
        "Métodos Ensemble: Bagging\n",
        "\n",
        "Implemente o método Bagging (Bootstrap Aggregating) a partir do zero usando árvores de decisão. Compare a precisão do modelo Bagging com uma única árvore de decisão.\n"
      ]
    },
    {
      "cell_type": "code",
      "execution_count": 20,
      "metadata": {
        "colab": {
          "base_uri": "https://localhost:8080/"
        },
        "id": "Spebb4pybu7Y",
        "outputId": "b1f46a72-1d5e-46b8-85ac-19f4afe73b10"
      },
      "outputs": [
        {
          "name": "stdout",
          "output_type": "stream",
          "text": [
            "Accuracy of Bagging: 1.0\n",
            "Accuracy of single Decision Tree: 1.0\n"
          ]
        }
      ],
      "source": [
        "import numpy as np\n",
        "from sklearn.tree import DecisionTreeClassifier\n",
        "from sklearn.model_selection import train_test_split\n",
        "from sklearn.datasets import load_iris\n",
        "from sklearn.metrics import accuracy_score\n",
        "\n",
        "# Carregando o dataset\n",
        "iris = load_iris()\n",
        "X, y = iris.data, iris.target\n",
        "\n",
        "# Dividindo os dados em treino e teste\n",
        "X_train, X_test, y_train, y_test = train_test_split(X, y, test_size=0.2, random_state=42)\n",
        "\n",
        "# Função para criar um modelo Bagging\n",
        "def bagging_classifier(X_train, y_train, n_estimators=100):\n",
        "    models = []\n",
        "    for _ in range(n_estimators):\n",
        "\n",
        "        idx = np.random.choice(X_train.shape[0], size=X_train.shape[0], replace=True)\n",
        "        X_sample, y_sample = X_train[idx], y_train[idx]\n",
        "\n",
        "        # Treinando uma árvore de decisão\n",
        "        model = DecisionTreeClassifier()\n",
        "        model.fit(X_sample, y_sample)\n",
        "        models.append(model)\n",
        "    return models\n",
        "\n",
        "# Criando o modelo Bagging\n",
        "bagging_models = bagging_classifier(X_train, y_train)\n",
        "\n",
        "# Fazendo as previsões\n",
        "def predict(models, X):\n",
        "    predictions = np.array([model.predict(X) for model in models])\n",
        "    return np.apply_along_axis(lambda x: np.argmax(np.bincount(x)), axis=0, arr=predictions)\n",
        "\n",
        "# Avaliando o modelo Bagging\n",
        "y_pred = predict(bagging_models, X_test)\n",
        "accuracy = accuracy_score(y_test, y_pred)\n",
        "print(\"Accuracy of Bagging:\", accuracy)\n",
        "\n",
        "# Comparando com uma única árvore de decisão\n",
        "model = DecisionTreeClassifier()\n",
        "model.fit(X_train, y_train)\n",
        "y_pred = model.predict(X_test)\n",
        "accuracy = accuracy_score(y_test, y_pred)\n",
        "print(\"Accuracy of single Decision Tree:\", accuracy)"
      ]
    }
  ],
  "metadata": {
    "colab": {
      "authorship_tag": "ABX9TyNIVexra5isoOfvYhUUUgbq",
      "include_colab_link": true,
      "provenance": []
    },
    "kernelspec": {
      "display_name": "Python 3",
      "name": "python3"
    },
    "language_info": {
      "name": "python"
    }
  },
  "nbformat": 4,
  "nbformat_minor": 0
}
